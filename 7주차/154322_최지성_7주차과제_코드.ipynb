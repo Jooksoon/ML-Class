{
 "cells": [
  {
   "cell_type": "markdown",
   "metadata": {
    "_cell_guid": "6876755d-3552-491d-b416-a012fbe221e4",
    "_uuid": "0b46910d15d98513ea81fb24e0f8ab28134c5f5f"
   },
   "source": [
    "분류 성능비교\n",
    "==\n",
    "\n",
    "다루는 내용\n",
    "--\n",
    "- 분류 알고리즘 비교\n",
    "- 교차검증\n",
    "- 정적 성능평가 Confusion matrix  \n",
    "- 동적 성능평가 ROC\n",
    "\n",
    "데이터\n",
    "--\n",
    "- 포도주 품질 분류 https://goo.gl/Gyc8K7\n",
    "\n",
    "출처\n",
    "--\n",
    "https://www.kaggle.com/vishalyo990/prediction-of-quality-of-wine/notebook\n",
    "\n"
   ]
  },
  {
   "cell_type": "markdown",
   "metadata": {},
   "source": [
    "모듈 불러오기\n",
    "--"
   ]
  },
  {
   "cell_type": "code",
   "execution_count": 61,
   "metadata": {
    "_cell_guid": "87c7b371-53b1-4d4d-bfbd-373d2b84b33a",
    "_uuid": "da5343fb3f6b3942909c94bf8e2add04fd3ff1a3"
   },
   "outputs": [],
   "source": [
    "import pandas as pd\n",
    "import numpy as np\n",
    "# import seaborn as sns\n",
    "import matplotlib.pyplot as plt\n",
    "from sklearn import tree\n",
    "from sklearn.neighbors import KNeighborsClassifier\n",
    "from sklearn.ensemble import RandomForestClassifier\n",
    "from sklearn.ensemble import GradientBoostingClassifier\n",
    "from xgboost import XGBClassifier\n",
    "from sklearn.svm import SVC\n",
    "from sklearn.svm import SVR # Support Vector Regression\n",
    "from sklearn.linear_model import LinearRegression, Ridge, Lasso, LogisticRegression\n",
    "from sklearn.metrics import confusion_matrix, classification_report, roc_curve, auc\n",
    "from sklearn.metrics import mean_squared_error, mean_absolute_error, r2_score\n",
    "from sklearn.preprocessing import StandardScaler, LabelEncoder\n",
    "from sklearn.model_selection import train_test_split, GridSearchCV, cross_val_score\n",
    "%matplotlib inline"
   ]
  },
  {
   "cell_type": "markdown",
   "metadata": {},
   "source": [
    "데이터 읽기 (포도주 품질 평가)\n",
    "--"
   ]
  },
  {
   "cell_type": "code",
   "execution_count": 3,
   "metadata": {
    "_cell_guid": "800f9ff4-79bf-4785-9569-23e1d9b9b03b",
    "_uuid": "07c8409e4eccd80507d9846e8cc70ea42e58cbe6"
   },
   "outputs": [],
   "source": [
    "wine = pd.read_csv('data/winequality-red.csv')\n",
    "# 데이터 사본 https://goo.gl/m3eCrf"
   ]
  },
  {
   "cell_type": "code",
   "execution_count": 4,
   "metadata": {
    "_cell_guid": "019cbcee-6cb2-478c-922b-ccebe4962769",
    "_uuid": "45ff42953e9082cd55612a4774408cc97a05fb11",
    "scrolled": true
   },
   "outputs": [
    {
     "data": {
      "text/html": [
       "<div>\n",
       "<style scoped>\n",
       "    .dataframe tbody tr th:only-of-type {\n",
       "        vertical-align: middle;\n",
       "    }\n",
       "\n",
       "    .dataframe tbody tr th {\n",
       "        vertical-align: top;\n",
       "    }\n",
       "\n",
       "    .dataframe thead th {\n",
       "        text-align: right;\n",
       "    }\n",
       "</style>\n",
       "<table border=\"1\" class=\"dataframe\">\n",
       "  <thead>\n",
       "    <tr style=\"text-align: right;\">\n",
       "      <th></th>\n",
       "      <th>fixed acidity</th>\n",
       "      <th>volatile acidity</th>\n",
       "      <th>citric acid</th>\n",
       "      <th>residual sugar</th>\n",
       "      <th>chlorides</th>\n",
       "      <th>free sulfur dioxide</th>\n",
       "      <th>total sulfur dioxide</th>\n",
       "      <th>density</th>\n",
       "      <th>pH</th>\n",
       "      <th>sulphates</th>\n",
       "      <th>alcohol</th>\n",
       "      <th>quality</th>\n",
       "    </tr>\n",
       "  </thead>\n",
       "  <tbody>\n",
       "    <tr>\n",
       "      <th>0</th>\n",
       "      <td>7.4</td>\n",
       "      <td>0.70</td>\n",
       "      <td>0.00</td>\n",
       "      <td>1.9</td>\n",
       "      <td>0.076</td>\n",
       "      <td>11.0</td>\n",
       "      <td>34.0</td>\n",
       "      <td>0.9978</td>\n",
       "      <td>3.51</td>\n",
       "      <td>0.56</td>\n",
       "      <td>9.4</td>\n",
       "      <td>5</td>\n",
       "    </tr>\n",
       "    <tr>\n",
       "      <th>1</th>\n",
       "      <td>7.8</td>\n",
       "      <td>0.88</td>\n",
       "      <td>0.00</td>\n",
       "      <td>2.6</td>\n",
       "      <td>0.098</td>\n",
       "      <td>25.0</td>\n",
       "      <td>67.0</td>\n",
       "      <td>0.9968</td>\n",
       "      <td>3.20</td>\n",
       "      <td>0.68</td>\n",
       "      <td>9.8</td>\n",
       "      <td>5</td>\n",
       "    </tr>\n",
       "    <tr>\n",
       "      <th>2</th>\n",
       "      <td>7.8</td>\n",
       "      <td>0.76</td>\n",
       "      <td>0.04</td>\n",
       "      <td>2.3</td>\n",
       "      <td>0.092</td>\n",
       "      <td>15.0</td>\n",
       "      <td>54.0</td>\n",
       "      <td>0.9970</td>\n",
       "      <td>3.26</td>\n",
       "      <td>0.65</td>\n",
       "      <td>9.8</td>\n",
       "      <td>5</td>\n",
       "    </tr>\n",
       "    <tr>\n",
       "      <th>3</th>\n",
       "      <td>11.2</td>\n",
       "      <td>0.28</td>\n",
       "      <td>0.56</td>\n",
       "      <td>1.9</td>\n",
       "      <td>0.075</td>\n",
       "      <td>17.0</td>\n",
       "      <td>60.0</td>\n",
       "      <td>0.9980</td>\n",
       "      <td>3.16</td>\n",
       "      <td>0.58</td>\n",
       "      <td>9.8</td>\n",
       "      <td>6</td>\n",
       "    </tr>\n",
       "    <tr>\n",
       "      <th>4</th>\n",
       "      <td>7.4</td>\n",
       "      <td>0.70</td>\n",
       "      <td>0.00</td>\n",
       "      <td>1.9</td>\n",
       "      <td>0.076</td>\n",
       "      <td>11.0</td>\n",
       "      <td>34.0</td>\n",
       "      <td>0.9978</td>\n",
       "      <td>3.51</td>\n",
       "      <td>0.56</td>\n",
       "      <td>9.4</td>\n",
       "      <td>5</td>\n",
       "    </tr>\n",
       "  </tbody>\n",
       "</table>\n",
       "</div>"
      ],
      "text/plain": [
       "   fixed acidity  volatile acidity  citric acid  residual sugar  chlorides  \\\n",
       "0            7.4              0.70         0.00             1.9      0.076   \n",
       "1            7.8              0.88         0.00             2.6      0.098   \n",
       "2            7.8              0.76         0.04             2.3      0.092   \n",
       "3           11.2              0.28         0.56             1.9      0.075   \n",
       "4            7.4              0.70         0.00             1.9      0.076   \n",
       "\n",
       "   free sulfur dioxide  total sulfur dioxide  density    pH  sulphates  \\\n",
       "0                 11.0                  34.0   0.9978  3.51       0.56   \n",
       "1                 25.0                  67.0   0.9968  3.20       0.68   \n",
       "2                 15.0                  54.0   0.9970  3.26       0.65   \n",
       "3                 17.0                  60.0   0.9980  3.16       0.58   \n",
       "4                 11.0                  34.0   0.9978  3.51       0.56   \n",
       "\n",
       "   alcohol  quality  \n",
       "0      9.4        5  \n",
       "1      9.8        5  \n",
       "2      9.8        5  \n",
       "3      9.8        6  \n",
       "4      9.4        5  "
      ]
     },
     "execution_count": 4,
     "metadata": {},
     "output_type": "execute_result"
    }
   ],
   "source": [
    "wine.head(5)"
   ]
  },
  {
   "cell_type": "markdown",
   "metadata": {},
   "source": [
    "wine에는 총 12가지의 특징이 존재한다."
   ]
  },
  {
   "cell_type": "code",
   "execution_count": 5,
   "metadata": {},
   "outputs": [
    {
     "data": {
      "text/plain": [
       "(1599, 12)"
      ]
     },
     "execution_count": 5,
     "metadata": {},
     "output_type": "execute_result"
    }
   ],
   "source": [
    "wine.shape"
   ]
  },
  {
   "cell_type": "markdown",
   "metadata": {},
   "source": [
    "- fixed acidity - 결합 산도 \n",
    "- volatile acidity - 휘발성 산도 \n",
    "- citric acid - 시트르산 \n",
    "- residual sugar - 잔류 설탕 \n",
    "- chlorides\t - 염화물 \n",
    "- free sulfur dioxide - 자유 이산화황 \n",
    "- total sulfur dioxide - 총 이산화황 \n",
    "- density - 밀도 \n",
    "- pH - pH \n",
    "- sulphates - 황산염 \n",
    "- alcohol - 알코올 \n",
    "- quality - 품질 (0 ~ 10 점)"
   ]
  },
  {
   "cell_type": "code",
   "execution_count": 6,
   "metadata": {
    "_cell_guid": "704f4830-5804-436d-9b78-6ca00f5ae510",
    "_uuid": "af141503385967f92d409c5e111e2724b4c9636f"
   },
   "outputs": [
    {
     "name": "stdout",
     "output_type": "stream",
     "text": [
      "<class 'pandas.core.frame.DataFrame'>\n",
      "RangeIndex: 1599 entries, 0 to 1598\n",
      "Data columns (total 12 columns):\n",
      " #   Column                Non-Null Count  Dtype  \n",
      "---  ------                --------------  -----  \n",
      " 0   fixed acidity         1599 non-null   float64\n",
      " 1   volatile acidity      1599 non-null   float64\n",
      " 2   citric acid           1599 non-null   float64\n",
      " 3   residual sugar        1599 non-null   float64\n",
      " 4   chlorides             1599 non-null   float64\n",
      " 5   free sulfur dioxide   1599 non-null   float64\n",
      " 6   total sulfur dioxide  1599 non-null   float64\n",
      " 7   density               1599 non-null   float64\n",
      " 8   pH                    1599 non-null   float64\n",
      " 9   sulphates             1599 non-null   float64\n",
      " 10  alcohol               1599 non-null   float64\n",
      " 11  quality               1599 non-null   int64  \n",
      "dtypes: float64(11), int64(1)\n",
      "memory usage: 150.0 KB\n"
     ]
    }
   ],
   "source": [
    "wine.info() # 데이터 정보"
   ]
  },
  {
   "cell_type": "code",
   "execution_count": 7,
   "metadata": {},
   "outputs": [
    {
     "data": {
      "text/plain": [
       "Index(['fixed acidity', 'volatile acidity', 'citric acid', 'residual sugar',\n",
       "       'chlorides', 'free sulfur dioxide', 'total sulfur dioxide', 'density',\n",
       "       'pH', 'sulphates', 'alcohol', 'quality'],\n",
       "      dtype='object')"
      ]
     },
     "execution_count": 7,
     "metadata": {},
     "output_type": "execute_result"
    }
   ],
   "source": [
    "wine.columns"
   ]
  },
  {
   "cell_type": "markdown",
   "metadata": {
    "_cell_guid": "12b9e3c1-006d-4b1d-b01d-02be5a594bbb",
    "_uuid": "e9ad3ce0e67ea7a5178222164d784a974846bc54"
   },
   "source": [
    "## 여러 특성 한번에 보기 (박스 플롯)"
   ]
  },
  {
   "attachments": {
    "image.png": {
     "image/png": "[encoded data removed]"
    }
   },
   "cell_type": "markdown",
   "metadata": {},
   "source": [
    "![image.png](attachment:image.png)  \n",
    "\n",
    "boxplot은 값의 평균적인 범위와 이상치를 잘 표현해준다."
   ]
  },
  {
   "cell_type": "code",
   "execution_count": 8,
   "metadata": {
    "scrolled": true
   },
   "outputs": [
    {
     "data": {
      "text/plain": [
       "(array([ 1,  2,  3,  4,  5,  6,  7,  8,  9, 10, 11, 12]),\n",
       " [Text(1, 0, 'fixed acidity'),\n",
       "  Text(2, 0, 'volatile acidity'),\n",
       "  Text(3, 0, 'citric acid'),\n",
       "  Text(4, 0, 'residual sugar'),\n",
       "  Text(5, 0, 'chlorides'),\n",
       "  Text(6, 0, 'free sulfur dioxide'),\n",
       "  Text(7, 0, 'total sulfur dioxide'),\n",
       "  Text(8, 0, 'density'),\n",
       "  Text(9, 0, 'pH'),\n",
       "  Text(10, 0, 'sulphates'),\n",
       "  Text(11, 0, 'alcohol'),\n",
       "  Text(12, 0, 'quality')])"
      ]
     },
     "execution_count": 8,
     "metadata": {},
     "output_type": "execute_result"
    },
    {
     "data": {
      "image/png": "[encoded data removed]",
      "text/plain": [
       "<Figure size 720x576 with 1 Axes>"
      ]
     },
     "metadata": {
      "needs_background": "light"
     },
     "output_type": "display_data"
    }
   ],
   "source": [
    "#맨처음에 박스플롯을 그린다 거의 한눈에 다보여주기 때문에\n",
    "wine.boxplot(figsize = (10,8))\n",
    "plt.xticks(rotation=30)"
   ]
  },
  {
   "cell_type": "markdown",
   "metadata": {},
   "source": [
    "줄여서 보기\n",
    "--"
   ]
  },
  {
   "cell_type": "code",
   "execution_count": 9,
   "metadata": {},
   "outputs": [
    {
     "data": {
      "text/plain": [
       "<AxesSubplot:>"
      ]
     },
     "execution_count": 9,
     "metadata": {},
     "output_type": "execute_result"
    },
    {
     "data": {
      "image/png": "[encoded data removed]",
      "text/plain": [
       "<Figure size 720x576 with 1 Axes>"
      ]
     },
     "metadata": {
      "needs_background": "light"
     },
     "output_type": "display_data"
    }
   ],
   "source": [
    "#위에서 크게나온 그림 빼고 다시그림 다른것들을 자세히 보기위해서\n",
    "wine.drop(['free sulfur dioxide', 'total sulfur dioxide'], axis=1).boxplot(figsize = (10,8))"
   ]
  },
  {
   "cell_type": "code",
   "execution_count": 10,
   "metadata": {},
   "outputs": [
    {
     "data": {
      "text/html": [
       "<div>\n",
       "<style scoped>\n",
       "    .dataframe tbody tr th:only-of-type {\n",
       "        vertical-align: middle;\n",
       "    }\n",
       "\n",
       "    .dataframe tbody tr th {\n",
       "        vertical-align: top;\n",
       "    }\n",
       "\n",
       "    .dataframe thead th {\n",
       "        text-align: right;\n",
       "    }\n",
       "</style>\n",
       "<table border=\"1\" class=\"dataframe\">\n",
       "  <thead>\n",
       "    <tr style=\"text-align: right;\">\n",
       "      <th></th>\n",
       "      <th>alcohol</th>\n",
       "      <th>quality</th>\n",
       "    </tr>\n",
       "  </thead>\n",
       "  <tbody>\n",
       "    <tr>\n",
       "      <th>0</th>\n",
       "      <td>9.4</td>\n",
       "      <td>5</td>\n",
       "    </tr>\n",
       "    <tr>\n",
       "      <th>1</th>\n",
       "      <td>9.8</td>\n",
       "      <td>5</td>\n",
       "    </tr>\n",
       "    <tr>\n",
       "      <th>2</th>\n",
       "      <td>9.8</td>\n",
       "      <td>5</td>\n",
       "    </tr>\n",
       "    <tr>\n",
       "      <th>3</th>\n",
       "      <td>9.8</td>\n",
       "      <td>6</td>\n",
       "    </tr>\n",
       "    <tr>\n",
       "      <th>4</th>\n",
       "      <td>9.4</td>\n",
       "      <td>5</td>\n",
       "    </tr>\n",
       "    <tr>\n",
       "      <th>5</th>\n",
       "      <td>9.4</td>\n",
       "      <td>5</td>\n",
       "    </tr>\n",
       "    <tr>\n",
       "      <th>6</th>\n",
       "      <td>9.4</td>\n",
       "      <td>5</td>\n",
       "    </tr>\n",
       "    <tr>\n",
       "      <th>7</th>\n",
       "      <td>10.0</td>\n",
       "      <td>7</td>\n",
       "    </tr>\n",
       "    <tr>\n",
       "      <th>8</th>\n",
       "      <td>9.5</td>\n",
       "      <td>7</td>\n",
       "    </tr>\n",
       "    <tr>\n",
       "      <th>9</th>\n",
       "      <td>10.5</td>\n",
       "      <td>5</td>\n",
       "    </tr>\n",
       "  </tbody>\n",
       "</table>\n",
       "</div>"
      ],
      "text/plain": [
       "   alcohol  quality\n",
       "0      9.4        5\n",
       "1      9.8        5\n",
       "2      9.8        5\n",
       "3      9.8        6\n",
       "4      9.4        5\n",
       "5      9.4        5\n",
       "6      9.4        5\n",
       "7     10.0        7\n",
       "8      9.5        7\n",
       "9     10.5        5"
      ]
     },
     "execution_count": 10,
     "metadata": {},
     "output_type": "execute_result"
    }
   ],
   "source": [
    "wine[['alcohol', 'quality']].head(10)"
   ]
  },
  {
   "cell_type": "code",
   "execution_count": 11,
   "metadata": {},
   "outputs": [
    {
     "data": {
      "text/plain": [
       "<AxesSubplot:>"
      ]
     },
     "execution_count": 11,
     "metadata": {},
     "output_type": "execute_result"
    },
    {
     "data": {
      "image/png": "[encoded data removed]",
      "text/plain": [
       "<Figure size 720x576 with 1 Axes>"
      ]
     },
     "metadata": {
      "needs_background": "light"
     },
     "output_type": "display_data"
    }
   ],
   "source": [
    "wine[['alcohol', 'quality']].boxplot(figsize = (10,8))"
   ]
  },
  {
   "cell_type": "markdown",
   "metadata": {},
   "source": [
    "히스토그램\n",
    "--"
   ]
  },
  {
   "cell_type": "code",
   "execution_count": 12,
   "metadata": {},
   "outputs": [
    {
     "data": {
      "text/plain": [
       "array([[<AxesSubplot:title={'center':'alcohol'}>,\n",
       "        <AxesSubplot:title={'center':'quality'}>]], dtype=object)"
      ]
     },
     "execution_count": 12,
     "metadata": {},
     "output_type": "execute_result"
    },
    {
     "data": {
      "image/png": "[encoded data removed]",
      "text/plain": [
       "<Figure size 720x576 with 2 Axes>"
      ]
     },
     "metadata": {
      "needs_background": "light"
     },
     "output_type": "display_data"
    }
   ],
   "source": [
    "wine[['alcohol', 'quality']].hist(figsize = (10,8))"
   ]
  },
  {
   "cell_type": "markdown",
   "metadata": {},
   "source": [
    "품질관련 데이터 파악\n",
    "--"
   ]
  },
  {
   "cell_type": "code",
   "execution_count": 13,
   "metadata": {},
   "outputs": [
    {
     "data": {
      "text/plain": [
       "<AxesSubplot:title={'center':'alcohol'}, xlabel='[quality]'>"
      ]
     },
     "execution_count": 13,
     "metadata": {},
     "output_type": "execute_result"
    },
    {
     "data": {
      "image/png": "[encoded data removed]",
      "text/plain": [
       "<Figure size 576x432 with 1 Axes>"
      ]
     },
     "metadata": {
      "needs_background": "light"
     },
     "output_type": "display_data"
    }
   ],
   "source": [
    "#퀄리티가 3인것만 모아서 그리고 4만모아서 그리고...\n",
    "wine[['alcohol', 'quality']].boxplot(by='quality',figsize = (8,6)) # by값 - 기준\n",
    "#quality가 좋은건 평균적으로 알코올 성분이 좋다.\n",
    "#포도주도 알코올이 있는것들을 좋아함"
   ]
  },
  {
   "cell_type": "code",
   "execution_count": 14,
   "metadata": {
    "scrolled": false
   },
   "outputs": [
    {
     "data": {
      "text/plain": [
       "array([<AxesSubplot:title={'center':'chlorides'}, xlabel='[quality]'>,\n",
       "       <AxesSubplot:title={'center':'citric acid'}, xlabel='[quality]'>],\n",
       "      dtype=object)"
      ]
     },
     "execution_count": 14,
     "metadata": {},
     "output_type": "execute_result"
    },
    {
     "data": {
      "image/png": "[encoded data removed]",
      "text/plain": [
       "<Figure size 576x432 with 2 Axes>"
      ]
     },
     "metadata": {
      "needs_background": "light"
     },
     "output_type": "display_data"
    }
   ],
   "source": [
    "#chlorides : 염화물 , citric acid : 시트르산\n",
    "wine1 = wine[[ 'chlorides', 'citric acid', 'quality']]\n",
    "wine1.boxplot(by='quality',figsize = (8,6))"
   ]
  },
  {
   "cell_type": "code",
   "execution_count": 15,
   "metadata": {
    "scrolled": false
   },
   "outputs": [
    {
     "data": {
      "text/plain": [
       "array([[<AxesSubplot:title={'center':'alcohol'}, xlabel='[quality]'>,\n",
       "        <AxesSubplot:title={'center':'chlorides'}, xlabel='[quality]'>,\n",
       "        <AxesSubplot:title={'center':'citric acid'}, xlabel='[quality]'>],\n",
       "       [<AxesSubplot:title={'center':'density'}, xlabel='[quality]'>,\n",
       "        <AxesSubplot:title={'center':'fixed acidity'}, xlabel='[quality]'>,\n",
       "        <AxesSubplot:title={'center':'free sulfur dioxide'}, xlabel='[quality]'>],\n",
       "       [<AxesSubplot:title={'center':'pH'}, xlabel='[quality]'>,\n",
       "        <AxesSubplot:title={'center':'residual sugar'}, xlabel='[quality]'>,\n",
       "        <AxesSubplot:title={'center':'sulphates'}, xlabel='[quality]'>],\n",
       "       [<AxesSubplot:title={'center':'total sulfur dioxide'}, xlabel='[quality]'>,\n",
       "        <AxesSubplot:title={'center':'volatile acidity'}, xlabel='[quality]'>,\n",
       "        <AxesSubplot:>]], dtype=object)"
      ]
     },
     "execution_count": 15,
     "metadata": {},
     "output_type": "execute_result"
    },
    {
     "data": {
      "image/png": "[encoded data removed]",
      "text/plain": [
       "<Figure size 1296x1152 with 12 Axes>"
      ]
     },
     "metadata": {
      "needs_background": "light"
     },
     "output_type": "display_data"
    }
   ],
   "source": [
    "wine.boxplot(by='quality',figsize = (18,16))"
   ]
  },
  {
   "cell_type": "code",
   "execution_count": 16,
   "metadata": {},
   "outputs": [
    {
     "data": {
      "text/plain": [
       "array([[<AxesSubplot:title={'center':'alcohol'}, xlabel='[quality]'>,\n",
       "        <AxesSubplot:title={'center':'chlorides'}, xlabel='[quality]'>,\n",
       "        <AxesSubplot:title={'center':'citric acid'}, xlabel='[quality]'>],\n",
       "       [<AxesSubplot:title={'center':'density'}, xlabel='[quality]'>,\n",
       "        <AxesSubplot:title={'center':'fixed acidity'}, xlabel='[quality]'>,\n",
       "        <AxesSubplot:title={'center':'pH'}, xlabel='[quality]'>],\n",
       "       [<AxesSubplot:title={'center':'residual sugar'}, xlabel='[quality]'>,\n",
       "        <AxesSubplot:title={'center':'sulphates'}, xlabel='[quality]'>,\n",
       "        <AxesSubplot:title={'center':'volatile acidity'}, xlabel='[quality]'>]],\n",
       "      dtype=object)"
      ]
     },
     "execution_count": 16,
     "metadata": {},
     "output_type": "execute_result"
    },
    {
     "data": {
      "image/png": "[encoded data removed]",
      "text/plain": [
       "<Figure size 1296x1152 with 9 Axes>"
      ]
     },
     "metadata": {
      "needs_background": "light"
     },
     "output_type": "display_data"
    }
   ],
   "source": [
    "wine.drop(['free sulfur dioxide', 'total sulfur dioxide'], axis=1).boxplot(by='quality',figsize = (18,16))"
   ]
  },
  {
   "cell_type": "code",
   "execution_count": 17,
   "metadata": {},
   "outputs": [
    {
     "data": {
      "text/plain": [
       "array([[<AxesSubplot:title={'center':'chlorides'}, xlabel='[quality]'>,\n",
       "        <AxesSubplot:title={'center':'citric acid'}, xlabel='[quality]'>],\n",
       "       [<AxesSubplot:title={'center':'density'}, xlabel='[quality]'>,\n",
       "        <AxesSubplot:title={'center':'sulphates'}, xlabel='[quality]'>],\n",
       "       [<AxesSubplot:title={'center':'volatile acidity'}, xlabel='[quality]'>,\n",
       "        <AxesSubplot:>]], dtype=object)"
      ]
     },
     "execution_count": 17,
     "metadata": {},
     "output_type": "execute_result"
    },
    {
     "data": {
      "image/png": "[encoded data removed]",
      "text/plain": [
       "<Figure size 1296x1152 with 6 Axes>"
      ]
     },
     "metadata": {
      "needs_background": "light"
     },
     "output_type": "display_data"
    }
   ],
   "source": [
    "wine.drop(['free sulfur dioxide', 'total sulfur dioxide','alcohol','fixed acidity','residual sugar','pH'], axis=1).boxplot(by='quality',figsize = (18,16))"
   ]
  },
  {
   "cell_type": "markdown",
   "metadata": {
    "_cell_guid": "9838ca3d-4b89-4503-9d7e-247cc3a9730b",
    "_uuid": "974be3136a2f13bf26a88b26cbddbf73f5cafda9"
   },
   "source": [
    "## 데이터 전처리 (레이블 만들기)"
   ]
  },
  {
   "cell_type": "code",
   "execution_count": 18,
   "metadata": {},
   "outputs": [
    {
     "data": {
      "text/plain": [
       "array([5, 6, 7, 4, 8, 3], dtype=int64)"
      ]
     },
     "execution_count": 18,
     "metadata": {},
     "output_type": "execute_result"
    }
   ],
   "source": [
    "wine['quality'].unique()"
   ]
  },
  {
   "cell_type": "code",
   "execution_count": 19,
   "metadata": {},
   "outputs": [
    {
     "data": {
      "text/plain": [
       "array([5, 6, 7, 4, 8, 3], dtype=int64)"
      ]
     },
     "execution_count": 19,
     "metadata": {},
     "output_type": "execute_result"
    }
   ],
   "source": [
    "wine.quality.unique() "
   ]
  },
  {
   "cell_type": "code",
   "execution_count": 20,
   "metadata": {},
   "outputs": [
    {
     "data": {
      "text/plain": [
       "5    681\n",
       "6    638\n",
       "7    199\n",
       "4     53\n",
       "8     18\n",
       "3     10\n",
       "Name: quality, dtype: int64"
      ]
     },
     "execution_count": 20,
     "metadata": {},
     "output_type": "execute_result"
    }
   ],
   "source": [
    "wine['quality'].value_counts()"
   ]
  },
  {
   "cell_type": "code",
   "execution_count": 21,
   "metadata": {
    "_cell_guid": "33e1c5c0-a65a-4918-8d94-db8e4c521d50",
    "_uuid": "3f082340d1b157391052f0fa20a44aa0105ce987"
   },
   "outputs": [],
   "source": [
    "# 품질이 좋고 나쁜 것을 나누는 기준 설정\n",
    "# 6.5를 기준으로 bad(0) good(1)으로 나눈다 (임의로 나눈 것임)\n",
    "bins = (2.9, 6.5, 8.1)#bins 구간을 나눌때 쓴다.(마지막에 8을썼더니 컴퓨터나 8을 뺴버렸다. 그래서 8을 포함시키기 위해 안전하게 8.1을 사용)\n",
    "#8만 잡게하면 성능이 좋아진다.\n",
    "group_names = [0, 1]\n",
    "wine['qual'] = pd.cut(wine['quality'], bins = bins, labels = group_names) #cut 함수 2.9 초과 6.5 이하, 6.5 초과 8.1 이하로 범위를 나눠줌"
   ]
  },
  {
   "cell_type": "code",
   "execution_count": 22,
   "metadata": {},
   "outputs": [
    {
     "data": {
      "text/html": [
       "<div>\n",
       "<style scoped>\n",
       "    .dataframe tbody tr th:only-of-type {\n",
       "        vertical-align: middle;\n",
       "    }\n",
       "\n",
       "    .dataframe tbody tr th {\n",
       "        vertical-align: top;\n",
       "    }\n",
       "\n",
       "    .dataframe thead th {\n",
       "        text-align: right;\n",
       "    }\n",
       "</style>\n",
       "<table border=\"1\" class=\"dataframe\">\n",
       "  <thead>\n",
       "    <tr style=\"text-align: right;\">\n",
       "      <th></th>\n",
       "      <th>fixed acidity</th>\n",
       "      <th>volatile acidity</th>\n",
       "      <th>citric acid</th>\n",
       "      <th>residual sugar</th>\n",
       "      <th>chlorides</th>\n",
       "      <th>free sulfur dioxide</th>\n",
       "      <th>total sulfur dioxide</th>\n",
       "      <th>density</th>\n",
       "      <th>pH</th>\n",
       "      <th>sulphates</th>\n",
       "      <th>alcohol</th>\n",
       "      <th>quality</th>\n",
       "      <th>qual</th>\n",
       "    </tr>\n",
       "  </thead>\n",
       "  <tbody>\n",
       "    <tr>\n",
       "      <th>0</th>\n",
       "      <td>7.4</td>\n",
       "      <td>0.70</td>\n",
       "      <td>0.00</td>\n",
       "      <td>1.9</td>\n",
       "      <td>0.076</td>\n",
       "      <td>11.0</td>\n",
       "      <td>34.0</td>\n",
       "      <td>0.9978</td>\n",
       "      <td>3.51</td>\n",
       "      <td>0.56</td>\n",
       "      <td>9.4</td>\n",
       "      <td>5</td>\n",
       "      <td>0</td>\n",
       "    </tr>\n",
       "    <tr>\n",
       "      <th>1</th>\n",
       "      <td>7.8</td>\n",
       "      <td>0.88</td>\n",
       "      <td>0.00</td>\n",
       "      <td>2.6</td>\n",
       "      <td>0.098</td>\n",
       "      <td>25.0</td>\n",
       "      <td>67.0</td>\n",
       "      <td>0.9968</td>\n",
       "      <td>3.20</td>\n",
       "      <td>0.68</td>\n",
       "      <td>9.8</td>\n",
       "      <td>5</td>\n",
       "      <td>0</td>\n",
       "    </tr>\n",
       "    <tr>\n",
       "      <th>2</th>\n",
       "      <td>7.8</td>\n",
       "      <td>0.76</td>\n",
       "      <td>0.04</td>\n",
       "      <td>2.3</td>\n",
       "      <td>0.092</td>\n",
       "      <td>15.0</td>\n",
       "      <td>54.0</td>\n",
       "      <td>0.9970</td>\n",
       "      <td>3.26</td>\n",
       "      <td>0.65</td>\n",
       "      <td>9.8</td>\n",
       "      <td>5</td>\n",
       "      <td>0</td>\n",
       "    </tr>\n",
       "    <tr>\n",
       "      <th>3</th>\n",
       "      <td>11.2</td>\n",
       "      <td>0.28</td>\n",
       "      <td>0.56</td>\n",
       "      <td>1.9</td>\n",
       "      <td>0.075</td>\n",
       "      <td>17.0</td>\n",
       "      <td>60.0</td>\n",
       "      <td>0.9980</td>\n",
       "      <td>3.16</td>\n",
       "      <td>0.58</td>\n",
       "      <td>9.8</td>\n",
       "      <td>6</td>\n",
       "      <td>0</td>\n",
       "    </tr>\n",
       "    <tr>\n",
       "      <th>4</th>\n",
       "      <td>7.4</td>\n",
       "      <td>0.70</td>\n",
       "      <td>0.00</td>\n",
       "      <td>1.9</td>\n",
       "      <td>0.076</td>\n",
       "      <td>11.0</td>\n",
       "      <td>34.0</td>\n",
       "      <td>0.9978</td>\n",
       "      <td>3.51</td>\n",
       "      <td>0.56</td>\n",
       "      <td>9.4</td>\n",
       "      <td>5</td>\n",
       "      <td>0</td>\n",
       "    </tr>\n",
       "  </tbody>\n",
       "</table>\n",
       "</div>"
      ],
      "text/plain": [
       "   fixed acidity  volatile acidity  citric acid  residual sugar  chlorides  \\\n",
       "0            7.4              0.70         0.00             1.9      0.076   \n",
       "1            7.8              0.88         0.00             2.6      0.098   \n",
       "2            7.8              0.76         0.04             2.3      0.092   \n",
       "3           11.2              0.28         0.56             1.9      0.075   \n",
       "4            7.4              0.70         0.00             1.9      0.076   \n",
       "\n",
       "   free sulfur dioxide  total sulfur dioxide  density    pH  sulphates  \\\n",
       "0                 11.0                  34.0   0.9978  3.51       0.56   \n",
       "1                 25.0                  67.0   0.9968  3.20       0.68   \n",
       "2                 15.0                  54.0   0.9970  3.26       0.65   \n",
       "3                 17.0                  60.0   0.9980  3.16       0.58   \n",
       "4                 11.0                  34.0   0.9978  3.51       0.56   \n",
       "\n",
       "   alcohol  quality qual  \n",
       "0      9.4        5    0  \n",
       "1      9.8        5    0  \n",
       "2      9.8        5    0  \n",
       "3      9.8        6    0  \n",
       "4      9.4        5    0  "
      ]
     },
     "execution_count": 22,
     "metadata": {},
     "output_type": "execute_result"
    }
   ],
   "source": [
    "wine.head(5)"
   ]
  },
  {
   "cell_type": "code",
   "execution_count": 23,
   "metadata": {
    "_cell_guid": "2fe7339e-837e-48c0-b988-a36c89632844",
    "_uuid": "d2a4c7e14dc6b8faa31efd1fcbe4f61b80a7d3e1"
   },
   "outputs": [
    {
     "data": {
      "text/plain": [
       "0    1382\n",
       "1     217\n",
       "Name: qual, dtype: int64"
      ]
     },
     "execution_count": 23,
     "metadata": {},
     "output_type": "execute_result"
    }
   ],
   "source": [
    "wine['qual'].value_counts()"
   ]
  },
  {
   "cell_type": "code",
   "execution_count": 24,
   "metadata": {
    "_cell_guid": "ba89712a-ad66-4a92-9214-4e35c3802d59",
    "_uuid": "b893deb26bb309c914de12aadf9ad8437deb8358"
   },
   "outputs": [],
   "source": [
    "# 예측변수와 레이블을 나눈다\n",
    "# X 데이터에서는 'quality'와 'qual' 컬럼 제거\n",
    "# y는 레이블만 담는다\n",
    "\n",
    "X_new = wine.drop(['quality', 'qual'], axis = 1)\n",
    "y_ = wine['quality'] # regression 용\n",
    "y = wine['qual'] "
   ]
  },
  {
   "cell_type": "code",
   "execution_count": 24,
   "metadata": {
    "scrolled": true
   },
   "outputs": [
    {
     "data": {
      "text/html": [
       "<div>\n",
       "<style scoped>\n",
       "    .dataframe tbody tr th:only-of-type {\n",
       "        vertical-align: middle;\n",
       "    }\n",
       "\n",
       "    .dataframe tbody tr th {\n",
       "        vertical-align: top;\n",
       "    }\n",
       "\n",
       "    .dataframe thead th {\n",
       "        text-align: right;\n",
       "    }\n",
       "</style>\n",
       "<table border=\"1\" class=\"dataframe\">\n",
       "  <thead>\n",
       "    <tr style=\"text-align: right;\">\n",
       "      <th></th>\n",
       "      <th>fixed acidity</th>\n",
       "      <th>volatile acidity</th>\n",
       "      <th>citric acid</th>\n",
       "      <th>residual sugar</th>\n",
       "      <th>chlorides</th>\n",
       "      <th>free sulfur dioxide</th>\n",
       "      <th>total sulfur dioxide</th>\n",
       "      <th>density</th>\n",
       "      <th>pH</th>\n",
       "      <th>sulphates</th>\n",
       "      <th>alcohol</th>\n",
       "    </tr>\n",
       "  </thead>\n",
       "  <tbody>\n",
       "    <tr>\n",
       "      <th>0</th>\n",
       "      <td>7.4</td>\n",
       "      <td>0.70</td>\n",
       "      <td>0.00</td>\n",
       "      <td>1.9</td>\n",
       "      <td>0.076</td>\n",
       "      <td>11.0</td>\n",
       "      <td>34.0</td>\n",
       "      <td>0.9978</td>\n",
       "      <td>3.51</td>\n",
       "      <td>0.56</td>\n",
       "      <td>9.4</td>\n",
       "    </tr>\n",
       "    <tr>\n",
       "      <th>1</th>\n",
       "      <td>7.8</td>\n",
       "      <td>0.88</td>\n",
       "      <td>0.00</td>\n",
       "      <td>2.6</td>\n",
       "      <td>0.098</td>\n",
       "      <td>25.0</td>\n",
       "      <td>67.0</td>\n",
       "      <td>0.9968</td>\n",
       "      <td>3.20</td>\n",
       "      <td>0.68</td>\n",
       "      <td>9.8</td>\n",
       "    </tr>\n",
       "    <tr>\n",
       "      <th>2</th>\n",
       "      <td>7.8</td>\n",
       "      <td>0.76</td>\n",
       "      <td>0.04</td>\n",
       "      <td>2.3</td>\n",
       "      <td>0.092</td>\n",
       "      <td>15.0</td>\n",
       "      <td>54.0</td>\n",
       "      <td>0.9970</td>\n",
       "      <td>3.26</td>\n",
       "      <td>0.65</td>\n",
       "      <td>9.8</td>\n",
       "    </tr>\n",
       "    <tr>\n",
       "      <th>3</th>\n",
       "      <td>11.2</td>\n",
       "      <td>0.28</td>\n",
       "      <td>0.56</td>\n",
       "      <td>1.9</td>\n",
       "      <td>0.075</td>\n",
       "      <td>17.0</td>\n",
       "      <td>60.0</td>\n",
       "      <td>0.9980</td>\n",
       "      <td>3.16</td>\n",
       "      <td>0.58</td>\n",
       "      <td>9.8</td>\n",
       "    </tr>\n",
       "    <tr>\n",
       "      <th>4</th>\n",
       "      <td>7.4</td>\n",
       "      <td>0.70</td>\n",
       "      <td>0.00</td>\n",
       "      <td>1.9</td>\n",
       "      <td>0.076</td>\n",
       "      <td>11.0</td>\n",
       "      <td>34.0</td>\n",
       "      <td>0.9978</td>\n",
       "      <td>3.51</td>\n",
       "      <td>0.56</td>\n",
       "      <td>9.4</td>\n",
       "    </tr>\n",
       "  </tbody>\n",
       "</table>\n",
       "</div>"
      ],
      "text/plain": [
       "   fixed acidity  volatile acidity  citric acid  residual sugar  chlorides  \\\n",
       "0            7.4              0.70         0.00             1.9      0.076   \n",
       "1            7.8              0.88         0.00             2.6      0.098   \n",
       "2            7.8              0.76         0.04             2.3      0.092   \n",
       "3           11.2              0.28         0.56             1.9      0.075   \n",
       "4            7.4              0.70         0.00             1.9      0.076   \n",
       "\n",
       "   free sulfur dioxide  total sulfur dioxide  density    pH  sulphates  \\\n",
       "0                 11.0                  34.0   0.9978  3.51       0.56   \n",
       "1                 25.0                  67.0   0.9968  3.20       0.68   \n",
       "2                 15.0                  54.0   0.9970  3.26       0.65   \n",
       "3                 17.0                  60.0   0.9980  3.16       0.58   \n",
       "4                 11.0                  34.0   0.9978  3.51       0.56   \n",
       "\n",
       "   alcohol  \n",
       "0      9.4  \n",
       "1      9.8  \n",
       "2      9.8  \n",
       "3      9.8  \n",
       "4      9.4  "
      ]
     },
     "execution_count": 24,
     "metadata": {},
     "output_type": "execute_result"
    }
   ],
   "source": [
    "X_new.head(5)"
   ]
  },
  {
   "cell_type": "code",
   "execution_count": 25,
   "metadata": {},
   "outputs": [
    {
     "data": {
      "text/plain": [
       "0    1382\n",
       "1     217\n",
       "Name: qual, dtype: int64"
      ]
     },
     "execution_count": 25,
     "metadata": {},
     "output_type": "execute_result"
    }
   ],
   "source": [
    "y.value_counts()"
   ]
  },
  {
   "cell_type": "markdown",
   "metadata": {},
   "source": [
    "표준 스케일링\n",
    "--\n",
    "\n",
    "전체 자료의 분포를 평균 0, 분산 1이 되도록 만든다.  \n",
    "X에는 수치 데이터만 들어야 한다.  \n",
    "테스트 데이터도 같이 스케일링하는 것을 잊지 않는다\n",
    "\n",
    "기존 코드에는 X전체를 scaling한 후 train과 test로 split하였는데, 이를 미리 split한 후 scaling하는 식으로 수정하였습니다."
   ]
  },
  {
   "cell_type": "code",
   "execution_count": 28,
   "metadata": {},
   "outputs": [],
   "source": [
    "sc = StandardScaler()\n",
    "\n",
    "# 데이터를 랜덤하게 섞은 후 80%를 훈련데이터로 사용\n",
    "# random_state 같은 값으로 지정하면 랜덤하게 섞이는 순서가 같다.\n",
    "X_train, X_test, y_train, y_test = train_test_split(X_new, y, test_size = 0.2, random_state = 7) # 분류용\n",
    "X_train_, X_test_, y_train_, y_test_ = train_test_split(X_new, y_, test_size = 0.2, random_state = 7) # 회귀용\n",
    "\n",
    "# 분류용, 회귀용 데이터에 각각 스케일링을 하는 과정\n",
    "# train data에 대해서는 fit을 하고 transform을 진행하였고, test data에 대해서는 train data에 fit된 scaler를 이용하여 transform만 진행\n",
    "scaled_X_train = sc.fit_transform(X_train)\n",
    "scaled_X_test = sc.transform(X_test)\n",
    "scaled_X_train_ = sc.fit_transform(X_train_)\n",
    "scaled_X_test_ = sc.transform(X_test_)\n",
    "\n",
    "#X = sc.fit_transform(X_new)\n",
    "#fit을 하고 transform을 한번에 한것, 코드를 줄여주기 위해서\n",
    "#fit은 데이터를 읽고 평균과 시그마를 구한다. (하나의 모델을 만듬, 여기에 들어가는 파라미터가 평균과 시그마) -> 스케일링 하기위한 상수구하기\n",
    "#transform은 실제 값들을 넣어서 나오는 값들\n",
    "\n",
    "#원래는 데이터를 자체적으로 나눠서 cross valredation을 해야한다. 하지만 지금은 통으로했다."
   ]
  },
  {
   "cell_type": "code",
   "execution_count": 29,
   "metadata": {},
   "outputs": [
    {
     "data": {
      "text/plain": [
       "array([[ 2.43643492, -0.39496664,  1.87019105, -0.38398375, -0.34832985,\n",
       "        -0.94341359, -0.96218365,  1.08283102, -2.06387857,  1.22458693,\n",
       "        -0.18904093],\n",
       "       [-0.16502345,  1.58108048, -0.09306925,  0.59176493, -0.24900894,\n",
       "         1.69021681,  1.1445491 , -0.04199837, -0.78374439, -1.37734384,\n",
       "        -1.13683921],\n",
       "       [-0.80093549,  1.32701728, -1.28135838, -0.17489475, -0.50724331,\n",
       "         1.78427504,  0.48243309,  0.39307715,  1.64851056,  0.70420078,\n",
       "        -0.47338041],\n",
       "       [ 0.52869878, -0.0562157 ,  3.78178661,  0.59176493, 10.35846439,\n",
       "         1.50210035,  0.66301019,  1.50729494, -3.6640463 ,  7.7583242 ,\n",
       "        -0.94727956],\n",
       "       [ 1.22242102, -1.12892699,  1.87019105,  0.17358692, -0.09009548,\n",
       "        -1.03747182, -0.75151038,  1.61341092, -0.33569742,  0.47291804,\n",
       "         0.75875736]])"
      ]
     },
     "execution_count": 29,
     "metadata": {},
     "output_type": "execute_result"
    }
   ],
   "source": [
    "# 데이터 프레임에 스케일링 연산을 하면 ndarray로 바뀐다\n",
    "scaled_X_train[:5]"
   ]
  },
  {
   "cell_type": "code",
   "execution_count": 30,
   "metadata": {},
   "outputs": [
    {
     "data": {
      "text/plain": [
       "-7.30793203729263e-11"
      ]
     },
     "execution_count": 30,
     "metadata": {},
     "output_type": "execute_result"
    }
   ],
   "source": [
    "scaled_X_train.sum()"
   ]
  },
  {
   "cell_type": "code",
   "execution_count": 29,
   "metadata": {
    "_cell_guid": "d7703d9a-3397-4c42-9b38-6f341cac1cde",
    "_uuid": "bdfc0f6ba146f947f265fd493e8327366fdb5c9a"
   },
   "outputs": [],
   "source": [
    "# 데이터를 랜덤하게 섞은 후 80%를 훈련데이터로 사용\n",
    "# random_state 같은 값으로 지정하면 랜덤하게 섞이는 순서가 같다.\n",
    "#X_train, X_test, y_train, y_test = train_test_split(X, y, test_size = 0.2, random_state = 7) # 분류용\n",
    "#X_train_, X_test_, y_train_, y_test_ = train_test_split(X, y_, test_size = 0.2, random_state = 7) # 회귀용\n",
    "\n",
    "#직접 실습을 해보는데 지금은 80%이지만 다르게 할 수도 있다.\n",
    "#위에 모델을 바꿔서 6.5가 맛있다가 아니라 8만 맛있다 등 바꿔본다."
   ]
  },
  {
   "cell_type": "code",
   "execution_count": 31,
   "metadata": {},
   "outputs": [
    {
     "data": {
      "text/plain": [
       "((1279, 11), (1279,))"
      ]
     },
     "execution_count": 31,
     "metadata": {},
     "output_type": "execute_result"
    }
   ],
   "source": [
    "scaled_X_train.shape, y_train.shape"
   ]
  },
  {
   "cell_type": "code",
   "execution_count": 32,
   "metadata": {},
   "outputs": [
    {
     "data": {
      "text/plain": [
       "((320, 11), (320,))"
      ]
     },
     "execution_count": 32,
     "metadata": {},
     "output_type": "execute_result"
    }
   ],
   "source": [
    "scaled_X_test.shape, y_test.shape"
   ]
  },
  {
   "cell_type": "markdown",
   "metadata": {},
   "source": [
    "# 1. 분류"
   ]
  },
  {
   "cell_type": "markdown",
   "metadata": {},
   "source": [
    "## KNN(K-최근접 이웃)"
   ]
  },
  {
   "cell_type": "code",
   "execution_count": 33,
   "metadata": {},
   "outputs": [
    {
     "data": {
      "text/plain": [
       "0.884375"
      ]
     },
     "execution_count": 33,
     "metadata": {},
     "output_type": "execute_result"
    }
   ],
   "source": [
    "clf = KNeighborsClassifier(n_neighbors=3)\n",
    "clf = clf.fit(scaled_X_train, y_train)\n",
    "clf.score(scaled_X_test,y_test)"
   ]
  },
  {
   "cell_type": "markdown",
   "metadata": {},
   "source": [
    "결정 트리 (Decesion Tree)\n",
    "--"
   ]
  },
  {
   "cell_type": "code",
   "execution_count": 34,
   "metadata": {},
   "outputs": [
    {
     "data": {
      "text/plain": [
       "0.86875"
      ]
     },
     "execution_count": 34,
     "metadata": {},
     "output_type": "execute_result"
    }
   ],
   "source": [
    "clf = tree.DecisionTreeClassifier()\n",
    "clf = clf.fit(scaled_X_train, y_train)\n",
    "clf.score(scaled_X_test,y_test)"
   ]
  },
  {
   "cell_type": "markdown",
   "metadata": {
    "_cell_guid": "0a12868b-8780-43b9-ae70-4c849407aac6",
    "_uuid": "093572f70cda59063611c1c888974e6a863ec7ef"
   },
   "source": [
    "## 랜덤 포래스트 (Random Forest Classifier)"
   ]
  },
  {
   "cell_type": "code",
   "execution_count": 35,
   "metadata": {},
   "outputs": [
    {
     "data": {
      "text/plain": [
       "0.9"
      ]
     },
     "execution_count": 35,
     "metadata": {},
     "output_type": "execute_result"
    }
   ],
   "source": [
    "rfc = RandomForestClassifier(max_depth=7, n_estimators=300) \n",
    "rfc.fit(scaled_X_train, y_train)\n",
    "rfc.score(scaled_X_test,y_test)"
   ]
  },
  {
   "cell_type": "markdown",
   "metadata": {},
   "source": [
    "## 그라디언트 부스팅 (Gradient Boosting Classifier)"
   ]
  },
  {
   "cell_type": "code",
   "execution_count": 36,
   "metadata": {},
   "outputs": [
    {
     "data": {
      "text/plain": [
       "0.88125"
      ]
     },
     "execution_count": 36,
     "metadata": {},
     "output_type": "execute_result"
    }
   ],
   "source": [
    "GBC = GradientBoostingClassifier(max_depth=5, n_estimators=100, learning_rate=0.1, random_state=42)\n",
    "GBC.fit(scaled_X_train, y_train)\n",
    "GBC.score(scaled_X_test,y_test)"
   ]
  },
  {
   "cell_type": "markdown",
   "metadata": {},
   "source": [
    "##  정적 평가, 혼돈 매트릭스 (confusion_matrix)"
   ]
  },
  {
   "cell_type": "markdown",
   "metadata": {},
   "source": [
    "총 320개의 데이터에 대해 32개가 잘못 분류되었으므로 위의 결과에서 정확도가 0.9가 나온 것과 일치함을 확인햇습니다."
   ]
  },
  {
   "cell_type": "code",
   "execution_count": 37,
   "metadata": {
    "_cell_guid": "84334dbd-d36c-4650-87ab-d3e8f73be63c",
    "_uuid": "0fd8c7cd7741be25fd0d5f56d5711e8aaf44ac0f"
   },
   "outputs": [
    {
     "data": {
      "text/plain": [
       "array([[269,  10],\n",
       "       [ 22,  19]], dtype=int64)"
      ]
     },
     "execution_count": 37,
     "metadata": {},
     "output_type": "execute_result"
    }
   ],
   "source": [
    "pred_rfc = rfc.predict(scaled_X_test)\n",
    "confusion_matrix(y_test, pred_rfc)\n",
    "# RandomForest에 대한 confusion_matrix"
   ]
  },
  {
   "cell_type": "markdown",
   "metadata": {},
   "source": [
    "아래는 모델이 올바르게 예측했는지를 평가하기 위한 값들이다"
   ]
  },
  {
   "cell_type": "code",
   "execution_count": 38,
   "metadata": {
    "_cell_guid": "1cc15e56-0589-4fa3-a4f1-6f5e7b5547b2",
    "_uuid": "61e8a79a7db4fef289b8d4e3b3dd8e1c01756697"
   },
   "outputs": [
    {
     "name": "stdout",
     "output_type": "stream",
     "text": [
      "              precision    recall  f1-score   support\n",
      "\n",
      "           0       0.92      0.96      0.94       279\n",
      "           1       0.66      0.46      0.54        41\n",
      "\n",
      "    accuracy                           0.90       320\n",
      "   macro avg       0.79      0.71      0.74       320\n",
      "weighted avg       0.89      0.90      0.89       320\n",
      "\n"
     ]
    }
   ],
   "source": [
    "# 여러 성능 지표를 출력한다\n",
    "print(classification_report(y_test, pred_rfc))\n",
    "#밑에 숫자는 0을 기준으로 0.94 맞춤 \n",
    "#pos 긍정이 아닌 내가 찾고자 하는 답을 pos라고 봄(암환자)"
   ]
  },
  {
   "cell_type": "markdown",
   "metadata": {},
   "source": [
    "- Precision  = 모델이 옳다고 한 것이 실제로 옳은 비율     TP / ( TP + FP ) \n",
    "- Recall =  실제 정답인 것들 중, 모델이 정답이라고 예측한 것    TP / TP+FN\n",
    "- f1-score = Precision과 Recall의 조화평균  (2 x  Precision x Recall ) /  (Precision + Recall)\n",
    "- support는 이 모델에서 응답한 샘플의 수이다"
   ]
  },
  {
   "cell_type": "markdown",
   "metadata": {
    "_cell_guid": "eda98e5a-552d-4318-8ae7-1fc45c360be4",
    "_uuid": "9ec5e14c6c24713d6b6e0aaa76ddc5d45886c626"
   },
   "source": [
    "## Support Vector Classifier (SVC)"
   ]
  },
  {
   "cell_type": "code",
   "execution_count": 39,
   "metadata": {
    "_cell_guid": "c09c2885-0ae7-424b-8bfb-8d60eeab8910",
    "_uuid": "432c960068fac4d27d9be14a39ac0fe92933f532"
   },
   "outputs": [
    {
     "data": {
      "text/plain": [
       "0.8875"
      ]
     },
     "execution_count": 39,
     "metadata": {},
     "output_type": "execute_result"
    }
   ],
   "source": [
    "svc = SVC()\n",
    "svc.fit(scaled_X_train, y_train)\n",
    "svc.score(scaled_X_test,y_test)"
   ]
  },
  {
   "cell_type": "markdown",
   "metadata": {},
   "source": [
    "Logistic Regression\n",
    "--"
   ]
  },
  {
   "cell_type": "code",
   "execution_count": 40,
   "metadata": {},
   "outputs": [
    {
     "data": {
      "text/plain": [
       "0.88125"
      ]
     },
     "execution_count": 40,
     "metadata": {},
     "output_type": "execute_result"
    }
   ],
   "source": [
    "log = LogisticRegression()\n",
    "log.fit(scaled_X_train, y_train)\n",
    "log.score(scaled_X_test,y_test)"
   ]
  },
  {
   "cell_type": "markdown",
   "metadata": {
    "_cell_guid": "d6cd1c1f-9531-4c6a-87c1-262dd7fb6caf",
    "_uuid": "9f705df2b81e776eedc164c5d933ff4dd4c61d31"
   },
   "source": [
    "## Cross validation(교차 검증)"
   ]
  },
  {
   "cell_type": "code",
   "execution_count": 42,
   "metadata": {
    "_cell_guid": "a5507be9-a3eb-4bba-b8d5-928d015faadf",
    "_uuid": "24a7f7dc1bf59eaae6e5ea5a6f61130664fcd260"
   },
   "outputs": [
    {
     "data": {
      "text/plain": [
       "array([0.890625, 0.890625, 0.859375, 0.890625, 0.890625])"
      ]
     },
     "execution_count": 42,
     "metadata": {},
     "output_type": "execute_result"
    }
   ],
   "source": [
    "# rfc 랜덤포레스트 모델 위에 변수로 선언해줌(제일 잘나와서)\n",
    "# estimator = 모델, cv는 분할 테스트 숫자\n",
    "# 기존에는 X=X, y=y 였지만 위에서 수정한 부분 때문에 이를 적절한 값으로 바꿔주었습니다.\n",
    "rfc_eval = cross_val_score(rfc, X = scaled_X_test, y = y_test, cv = 5)  \n",
    "rfc_eval  # 5번의 교차 검증 결과를 보여준다"
   ]
  },
  {
   "cell_type": "code",
   "execution_count": 43,
   "metadata": {},
   "outputs": [
    {
     "data": {
      "text/plain": [
       "0.884375"
      ]
     },
     "execution_count": 43,
     "metadata": {},
     "output_type": "execute_result"
    }
   ],
   "source": [
    "rfc_eval.mean()"
   ]
  },
  {
   "cell_type": "markdown",
   "metadata": {},
   "source": [
    "Percentile Test\n",
    "=="
   ]
  },
  {
   "cell_type": "markdown",
   "metadata": {},
   "source": [
    "분류 성능 평가 (정적)\n",
    "--"
   ]
  },
  {
   "cell_type": "code",
   "execution_count": 44,
   "metadata": {},
   "outputs": [],
   "source": [
    "from itertools import cycle\n",
    "from sklearn import svm, datasets\n",
    "import sklearn.metrics \n",
    "from sklearn.preprocessing import label_binarize\n",
    "from scipy import interp"
   ]
  },
  {
   "cell_type": "code",
   "execution_count": 46,
   "metadata": {},
   "outputs": [
    {
     "data": {
      "text/plain": [
       "((1599, 11), (1599,))"
      ]
     },
     "execution_count": 46,
     "metadata": {},
     "output_type": "execute_result"
    }
   ],
   "source": [
    "X_new.shape, y.shape"
   ]
  },
  {
   "cell_type": "markdown",
   "metadata": {},
   "source": [
    "선형모델\n",
    "--"
   ]
  },
  {
   "cell_type": "code",
   "execution_count": 47,
   "metadata": {
    "scrolled": true
   },
   "outputs": [
    {
     "name": "stdout",
     "output_type": "stream",
     "text": [
      "0.88125\n"
     ]
    },
    {
     "data": {
      "text/plain": [
       "array([-3.23300193, -2.60242237, -2.26460402, -3.94897947, -1.63060618,\n",
       "       -2.74684236, -3.2982254 ,  0.25613853, -4.07679781, -4.08407638,\n",
       "       -1.08568545,  0.58624691,  1.46190571, -4.1075383 , -4.30074249,\n",
       "       -5.17954113, -1.62558989, -4.61996364, -2.71866598, -1.81544455,\n",
       "       -3.25806872, -4.29080994, -4.18342842, -2.18210337, -3.79029635,\n",
       "       -0.88428638, -3.7698839 , -4.59686455, -0.71259509, -4.85287587,\n",
       "       -2.05692654, -4.71866795, -3.018336  , -2.98437638, -4.47987741,\n",
       "       -5.22856355,  0.08876048, -4.53870588, -1.43777373, -3.95087187,\n",
       "       -3.4907938 , -0.84475559, -1.430732  , -2.55039193, -1.1850997 ,\n",
       "       -2.73548814, -2.2530704 , -1.45997171, -1.32605541,  0.77099066,\n",
       "       -1.08947678, -4.01900145,  0.15749706,  0.6655076 , -2.5508622 ,\n",
       "       -1.77255834, -0.74504618, -2.7804216 , -4.50169071,  2.07455257,\n",
       "       -3.62280213, -0.47386341, -0.96939214, -4.45438107, -3.74504303,\n",
       "       -4.68511676, -1.155892  , -2.59086425, -1.92976049, -1.29269032,\n",
       "        0.59552082, -1.90314566, -0.23924167, -1.48784924, -4.87701223,\n",
       "       -0.34824475, -2.61566776, -2.10327353, -3.89469105, -1.66327767,\n",
       "       -2.64661057, -1.15253748, -2.33303821, -4.6019775 , -3.49695789,\n",
       "       -1.35754235, -3.06732031, -4.75159478, -2.52992208, -4.21155329,\n",
       "       -1.20475008, -3.90006389, -3.52957532, -4.16778056, -2.39053058,\n",
       "       -1.70099539,  0.01340075, -4.96296951,  0.06901342, -1.20542173,\n",
       "       -5.07746569, -2.72975431, -3.88060918, -4.47305759, -4.33935665,\n",
       "       -3.15483954, -2.29951844, -2.70494111, -1.97929795, -3.71533305,\n",
       "       -2.4158839 , -4.26639039, -2.22614786, -1.4835543 , -4.83623132,\n",
       "       -3.6573716 , -4.37185965, -1.03038725, -3.81943543, -3.62096299,\n",
       "       -4.66505443, -4.20846113, -3.3727634 , -0.85717668, -1.45761689,\n",
       "       -3.45318451, -3.69163411,  0.41390243,  0.86506019, -2.69451877,\n",
       "        0.24106727, -4.68229734, -1.15138398, -4.37794639,  2.1514026 ,\n",
       "       -1.05765857, -2.97930886, -4.34614636, -4.84686678, -5.18680647,\n",
       "       -4.73135274, -3.57746346, -3.09715906, -4.31636206, -4.10710489,\n",
       "       -2.71917352, -2.78652481, -4.55053638, -3.3563249 , -3.06300008,\n",
       "       -5.20403237, -3.60288319, -3.99377545, -0.35338683, -3.90745167,\n",
       "       -3.71911286, -3.85198476, -3.59827275, -2.61019617, -1.41727927,\n",
       "       -5.18325551, -1.65856954,  1.14136948, -1.00040817, -3.2008589 ,\n",
       "       -5.1145451 , -4.05148497, -3.99815292, -0.02001886, -4.3055728 ,\n",
       "       -4.62876747, -3.41406146, -4.11623442, -1.75994757, -1.88134459,\n",
       "       -2.75811446, -2.30359095, -3.70613165, -2.09057911, -3.88263861,\n",
       "       -0.91947471, -2.52552428, -1.48784924, -2.08392914, -3.31488866,\n",
       "       -2.64659749, -0.79192583, -3.15508655, -3.28512615,  0.47217391,\n",
       "       -3.88532652,  0.68833854, -4.1546998 , -3.88532652, -4.42297818,\n",
       "       -3.01265442, -4.65490846, -0.22372494,  0.60355793, -0.51333944,\n",
       "       -4.45888353, -1.16740499, -0.9683291 , -1.51892037, -0.52333206,\n",
       "        2.02052113, -0.33687618, -2.73533545,  0.35267949, -1.74254428,\n",
       "       -1.5406531 , -2.82902945, -1.6712511 , -3.20415933, -1.8721607 ,\n",
       "       -5.18680647, -3.94747311, -1.05540001, -4.67120443, -2.66694015,\n",
       "       -2.47619959, -2.4866458 , -4.28802655, -1.54156819, -1.50836621,\n",
       "        0.09793595, -5.16961955, -0.26136007, -3.36020807, -2.39519652,\n",
       "       -4.06954922, -3.69357419, -1.74067452, -2.05860803, -2.43849371,\n",
       "       -4.49071274, -3.24821905,  0.54642942, -3.54143629, -3.06815416,\n",
       "       -4.8133709 , -4.50223695, -3.42366914, -4.54218931, -1.40952165,\n",
       "       -4.05908621, -2.1045    , -5.27027402, -3.71839803, -0.61575537,\n",
       "       -1.74328024, -3.33762716, -1.70402483, -0.43175666,  0.64732416,\n",
       "       -1.37174692, -4.16698505, -0.73455184, -2.69622587, -2.07817131,\n",
       "       -0.77658442, -5.82665216,  1.72578785, -0.43947506, -3.62346534,\n",
       "       -3.60715532, -4.8949457 , -3.4022318 , -3.21971139, -2.84648912,\n",
       "        0.64069971, -3.62171369,  1.03815005, -2.22086861, -3.60970707,\n",
       "       -4.33149319, -1.48184554, -5.01371518, -0.73223182,  1.70594955,\n",
       "        0.47217391, -1.56247819, -3.92152432, -1.80874975,  0.22749618,\n",
       "       -2.9288183 ,  0.16907343, -4.491994  ,  0.64651019, -1.7720398 ,\n",
       "       -5.07361731, -1.25569436, -3.15732759, -0.84833342, -6.77880441,\n",
       "       -1.48323121, -3.21705437, -4.9448831 , -3.78400716,  5.26894744,\n",
       "       -5.84482107, -2.17504587, -0.47869025, -4.07322502, -3.46878551,\n",
       "       -1.93193779, -4.6466493 , -2.36972752, -3.55448398, -5.4736874 ,\n",
       "       -3.03849989,  1.70594955, -2.44902509,  0.96087598, -2.90595871,\n",
       "       -1.6382646 ,  0.02524994, -4.26336594, -4.8043424 ,  0.01340075])"
      ]
     },
     "execution_count": 47,
     "metadata": {},
     "output_type": "execute_result"
    }
   ],
   "source": [
    "classifier = LogisticRegression()\n",
    "y_score = classifier.fit(scaled_X_train, y_train).decision_function(scaled_X_test)#decision_function() 어떤 클래스라고 분류한 확률을 리턴해줌\n",
    "print(classifier.score(scaled_X_test, y_test))\n",
    "y_score"
   ]
  },
  {
   "cell_type": "markdown",
   "metadata": {},
   "source": [
    "ROC로 성능 평가 (맞춘 순서를 평가)\n",
    "--"
   ]
  },
  {
   "cell_type": "code",
   "execution_count": 48,
   "metadata": {},
   "outputs": [
    {
     "data": {
      "text/plain": [
       "0.8888014686598479"
      ]
     },
     "execution_count": 48,
     "metadata": {},
     "output_type": "execute_result"
    }
   ],
   "source": [
    "fpr = dict()\n",
    "tpr = dict()\n",
    "roc_auc = dict()\n",
    "fpr, tpr, _ = roc_curve(y_test, y_score)\n",
    "roc_auc = auc(fpr, tpr)\n",
    "\n",
    "#roc_auc는 그래프의 넓이를 구한다. 초반에 빨리 올라가면 면적이 넓다.\n",
    "#가장 낮은건 평균인 0.5, 최대는 1이 된다.\n",
    "roc_auc"
   ]
  },
  {
   "cell_type": "markdown",
   "metadata": {},
   "source": [
    "# ROC그림 실습해보기"
   ]
  },
  {
   "cell_type": "code",
   "execution_count": 49,
   "metadata": {},
   "outputs": [
    {
     "data": {
      "text/plain": [
       "<matplotlib.legend.Legend at 0x229b6cda2e0>"
      ]
     },
     "execution_count": 49,
     "metadata": {},
     "output_type": "execute_result"
    },
    {
     "data": {
      "image/png": "[encoded data removed]",
      "text/plain": [
       "<Figure size 432x432 with 1 Axes>"
      ]
     },
     "metadata": {
      "needs_background": "light"
     },
     "output_type": "display_data"
    }
   ],
   "source": [
    "plt.figure(figsize=(6,6))\n",
    "plt.plot(fpr, tpr, color='r', label='ROC curve (area = %0.2f)' % roc_auc)\n",
    "plt.plot([0, 1], [0, 1], linestyle='--')\n",
    "plt.xlim([0.0, 1.0])\n",
    "plt.ylim([0.0, 1.05])\n",
    "plt.xlabel('False Positive Rate')\n",
    "plt.ylabel('True Positive Rate')\n",
    "plt.title('ROC')\n",
    "plt.legend(loc=\"lower right\")"
   ]
  },
  {
   "cell_type": "markdown",
   "metadata": {},
   "source": [
    "# 2. 회귀"
   ]
  },
  {
   "cell_type": "code",
   "execution_count": 51,
   "metadata": {},
   "outputs": [],
   "source": [
    "def rmse(true,pred):\n",
    "    return np.sqrt(mean_squared_error(true,pred))\n",
    "\n",
    "metrics = {'MSE': mean_squared_error,\n",
    "              'RMSE': mean_absolute_error,\n",
    "              'MAE': rmse,\n",
    "              'R2': r2_score}\n",
    "\n",
    "def linear_eval(model):\n",
    "    for i in metrics.keys():\n",
    "        print(f'{i} : {metrics[i](y_test_, model.predict(scaled_X_test_))}')"
   ]
  },
  {
   "cell_type": "markdown",
   "metadata": {
    "_cell_guid": "cb7432d3-16a5-4764-b792-def2666dffbe",
    "_uuid": "6bb4d5afc35743acfd4630d12038c29f2459ce39"
   },
   "source": [
    "## 선형 모델"
   ]
  },
  {
   "cell_type": "code",
   "execution_count": 52,
   "metadata": {
    "_cell_guid": "d6835aea-7d7c-4602-b3f3-11e26a37f816",
    "_uuid": "2e1bc3b870d29573b09f1c590ee18011e29af7c3"
   },
   "outputs": [
    {
     "name": "stdout",
     "output_type": "stream",
     "text": [
      "MSE : 0.3795971085022979\n",
      "RMSE : 0.48139673183329795\n",
      "MAE : 0.6161145254758225\n",
      "R2 : 0.3468858137200871\n"
     ]
    }
   ],
   "source": [
    "lr = LinearRegression()\n",
    "lr.fit(scaled_X_train_, y_train_)\n",
    "linear_eval(lr)"
   ]
  },
  {
   "cell_type": "code",
   "execution_count": 53,
   "metadata": {},
   "outputs": [
    {
     "name": "stdout",
     "output_type": "stream",
     "text": [
      "MSE : 0.37959704256387944\n",
      "RMSE : 0.4813967080694555\n",
      "MAE : 0.6161144719643253\n",
      "R2 : 0.34688592717015165\n"
     ]
    }
   ],
   "source": [
    "ridge = Ridge(alpha=0.001)\n",
    "ridge.fit(scaled_X_train_, y_train_)\n",
    "linear_eval(ridge)"
   ]
  },
  {
   "cell_type": "code",
   "execution_count": 54,
   "metadata": {},
   "outputs": [
    {
     "name": "stdout",
     "output_type": "stream",
     "text": [
      "MSE : 0.37847871287015566\n",
      "RMSE : 0.4812811900820062\n",
      "MAE : 0.6152062360462186\n",
      "R2 : 0.34881006455568353\n"
     ]
    }
   ],
   "source": [
    "lasso = Lasso(alpha=0.001)\n",
    "lasso.fit(scaled_X_train_, y_train_)\n",
    "linear_eval(lasso)"
   ]
  },
  {
   "cell_type": "markdown",
   "metadata": {},
   "source": [
    "## Support Vector Regressor(SVR)"
   ]
  },
  {
   "cell_type": "code",
   "execution_count": 55,
   "metadata": {},
   "outputs": [
    {
     "name": "stdout",
     "output_type": "stream",
     "text": [
      "MSE : 0.3343878248888926\n",
      "RMSE : 0.4296732994951088\n",
      "MAE : 0.5782627645706514\n",
      "R2 : 0.42467045385068547\n"
     ]
    }
   ],
   "source": [
    "svr = SVR(kernel='rbf',gamma='auto',C=1, epsilon=0.1)\n",
    "svr.fit(scaled_X_train_, y_train_)\n",
    "linear_eval(svr)"
   ]
  },
  {
   "cell_type": "markdown",
   "metadata": {},
   "source": [
    "### 추가적 방법 실험"
   ]
  },
  {
   "cell_type": "raw",
   "metadata": {},
   "source": [
    "위의 데이터를 선형회귀하였을 때, 그 결과를 확인해보고자 하였습니다.  \n",
    "그 이유는 회귀의 결과는 real형태로 나올 것이고 실제 결과는 integer형태로 나오기 때문에 그 값의 차이를 확인하고자 하였습니다."
   ]
  },
  {
   "cell_type": "code",
   "execution_count": 58,
   "metadata": {
    "scrolled": true
   },
   "outputs": [
    {
     "data": {
      "text/plain": [
       "array([5.56707312, 5.65851074, 5.8519484 , 5.29782496, 5.94855169,\n",
       "       5.69902801, 5.48679531, 6.40273665, 5.22312434, 5.4868054 ,\n",
       "       6.09177612, 6.56090886, 6.76179468, 5.26006577, 5.21234636,\n",
       "       4.91368993, 5.90666074, 5.12266209, 5.68250339, 5.69533083,\n",
       "       5.40295169, 5.15307152, 5.23272327, 5.88123839, 5.38553313,\n",
       "       5.96423517, 5.3312873 , 5.12654154, 6.12699837, 5.08056785,\n",
       "       5.80243465, 5.13072692, 5.49656804, 5.61113998, 5.1588366 ,\n",
       "       4.94314712, 6.53271155, 5.11968526, 5.92126645, 5.53646122,\n",
       "       5.377654  , 6.25300796, 6.05680645, 5.71625527, 5.82718561,\n",
       "       5.66495102, 5.70887038, 5.89749669, 6.00696715, 6.62887065,\n",
       "       6.14800087, 5.3070631 , 6.34875612, 6.66456891, 5.57630563,\n",
       "       5.87420717, 6.13197152, 5.61680747, 5.1230296 , 6.93678439,\n",
       "       5.37166712, 6.22662688, 6.09048616, 5.18630432, 5.2966422 ,\n",
       "       5.25196622, 5.98884602, 5.77030459, 5.79038837, 5.95639297,\n",
       "       6.55313002, 5.83182826, 6.2201104 , 6.01381524, 5.02116765,\n",
       "       6.27452244, 5.79092184, 5.81249768, 5.27762206, 5.93806572,\n",
       "       5.61368371, 6.0748884 , 5.65765191, 5.11062244, 5.41337378,\n",
       "       6.11153854, 5.61441478, 4.72682882, 5.7501886 , 5.1468827 ,\n",
       "       6.1042327 , 5.13566998, 5.37442165, 5.31312858, 5.84040922,\n",
       "       5.98379079, 6.34947621, 4.99253878, 6.41082931, 5.94600678,\n",
       "       4.98896497, 5.62974659, 5.31891985, 5.15564236, 5.18720046,\n",
       "       5.52899731, 5.68105784, 5.62329845, 5.77992837, 5.23752178,\n",
       "       5.77742031, 5.25035751, 5.83903246, 6.06287732, 5.14206918,\n",
       "       5.382781  , 5.22217615, 6.09313879, 5.1562137 , 5.3794409 ,\n",
       "       5.08945397, 5.15869121, 5.55445446, 6.26240471, 6.00832515,\n",
       "       5.36488264, 5.35258239, 6.40662263, 6.46923849, 5.66866898,\n",
       "       6.50818852, 5.086983  , 6.26588509, 5.17802499, 6.79075579,\n",
       "       6.11389097, 5.54282617, 5.18020448, 5.15744161, 4.81654135,\n",
       "       4.78813359, 5.44406734, 5.56182736, 5.1929788 , 5.22784328,\n",
       "       5.61639427, 5.72573064, 5.1008899 , 5.44779223, 5.63406477,\n",
       "       4.89258432, 5.39364766, 5.26250436, 6.27679896, 5.31643125,\n",
       "       5.3693898 , 5.2398163 , 5.43074762, 5.6215995 , 5.77089258,\n",
       "       5.05756205, 5.84531209, 6.68806665, 6.15338979, 5.42296238,\n",
       "       4.96640244, 5.35326858, 5.39420991, 6.38911274, 5.3612053 ,\n",
       "       5.11706063, 5.5694766 , 5.26679128, 5.94207084, 5.88896074,\n",
       "       5.7578389 , 5.73520716, 5.22996023, 5.81069701, 5.41195393,\n",
       "       6.24837592, 5.71101826, 6.01381524, 5.63192374, 5.55193458,\n",
       "       5.70418861, 6.04904045, 5.59930142, 5.44598292, 6.80243606,\n",
       "       5.42352641, 6.71951636, 5.32743275, 5.42352641, 5.13018315,\n",
       "       5.59792848, 4.90377572, 6.26770497, 6.47490015, 6.40176875,\n",
       "       5.25606795, 6.06217678, 5.68124126, 6.01473316, 6.13583822,\n",
       "       6.85762396, 6.32951179, 5.69426072, 6.47694107, 5.7410554 ,\n",
       "       5.86827153, 5.40828953, 5.86721321, 5.49638291, 6.00496989,\n",
       "       4.81654135, 5.32609192, 5.96195482, 5.23139021, 5.69370379,\n",
       "       5.71912846, 5.63564546, 5.0348938 , 5.94023788, 6.00232161,\n",
       "       6.4302348 , 5.038117  , 6.295562  , 5.4266187 , 5.79824908,\n",
       "       5.35505186, 5.32787861, 6.05549   , 5.801809  , 5.78985942,\n",
       "       5.14672494, 5.32239189, 6.59417396, 5.50152169, 5.58295834,\n",
       "       5.19503659, 5.11871843, 5.51688692, 5.15660858, 6.01808533,\n",
       "       5.30017847, 5.82576403, 5.12518856, 5.4261121 , 6.17079971,\n",
       "       5.79253118, 5.54680622, 6.04285184, 6.30530727, 6.40019071,\n",
       "       5.9595691 , 5.2484571 , 6.27051109, 5.6808931 , 5.62037229,\n",
       "       6.0891731 , 4.60877412, 6.95744542, 6.31273238, 5.37303264,\n",
       "       5.41043648, 4.90676969, 5.47388376, 5.52051309, 5.68649272,\n",
       "       6.66608795, 5.48147752, 6.77773975, 5.80237746, 5.43174597,\n",
       "       5.07013366, 6.18843101, 4.9973104 , 6.13638655, 6.88135782,\n",
       "       6.80243606, 5.9303149 , 5.03888016, 5.86507583, 6.42056903,\n",
       "       5.64427197, 6.48292803, 5.0292242 , 6.50178253, 5.89020505,\n",
       "       4.99203201, 6.06766817, 5.55448138, 6.1302183 , 4.29782991,\n",
       "       5.80621756, 5.51679561, 5.01861285, 5.33652306, 7.68376092,\n",
       "       4.70039955, 5.89831863, 6.22509611, 5.30420228, 5.40405867,\n",
       "       5.74317762, 4.80482885, 5.77205572, 5.20437859, 4.99195215,\n",
       "       5.51977535, 6.88135782, 5.74061238, 6.51977835, 5.67250337,\n",
       "       5.85765304, 6.44209863, 5.17836905, 5.10937086, 6.34947621])"
      ]
     },
     "execution_count": 58,
     "metadata": {},
     "output_type": "execute_result"
    }
   ],
   "source": [
    "lr.predict(scaled_X_test_)"
   ]
  },
  {
   "cell_type": "code",
   "execution_count": 57,
   "metadata": {},
   "outputs": [
    {
     "name": "stdout",
     "output_type": "stream",
     "text": [
      "1526    6\n",
      "674     6\n",
      "1508    6\n",
      "58      5\n",
      "1351    6\n",
      "       ..\n",
      "128     7\n",
      "828     8\n",
      "704     4\n",
      "313     5\n",
      "970     6\n",
      "Name: quality, Length: 320, dtype: int64\n"
     ]
    }
   ],
   "source": [
    "print(y_test_)"
   ]
  },
  {
   "cell_type": "code",
   "execution_count": 59,
   "metadata": {},
   "outputs": [
    {
     "name": "stdout",
     "output_type": "stream",
     "text": [
      "min :  4.297829914680127\n",
      "max :  7.6837609173319965\n"
     ]
    }
   ],
   "source": [
    "print(\"min : \", min(lr.predict(scaled_X_test_)))\n",
    "print(\"max : \", max(lr.predict(scaled_X_test_)))"
   ]
  },
  {
   "cell_type": "markdown",
   "metadata": {},
   "source": [
    "XGBoost를 사용하여 Classification을 진행하였고, 빠르면서 정확한 결과를 제공해준다는 사실을 확인했습니다."
   ]
  },
  {
   "cell_type": "code",
   "execution_count": 64,
   "metadata": {},
   "outputs": [
    {
     "name": "stdout",
     "output_type": "stream",
     "text": [
      "[19:59:26] WARNING: C:/Users/Administrator/workspace/xgboost-win64_release_1.3.0/src/learner.cc:1061: Starting in XGBoost 1.3.0, the default evaluation metric used with the objective 'binary:logistic' was changed from 'error' to 'logloss'. Explicitly set eval_metric if you'd like to restore the old behavior.\n"
     ]
    },
    {
     "data": {
      "text/plain": [
       "0.915625"
      ]
     },
     "execution_count": 64,
     "metadata": {},
     "output_type": "execute_result"
    }
   ],
   "source": [
    "xgb = XGBClassifier(n_estimators=500, learning_rate = 0.1, max_depth=4)\n",
    "xgb.fit(scaled_X_train, y_train)\n",
    "xgb.score(scaled_X_test, y_test)"
   ]
  },
  {
   "cell_type": "markdown",
   "metadata": {},
   "source": [
    "GradientBoosting을 xgb와 비슷한 정확도를 내도록 하고 싶어서 매개변수 값을 고쳐보았지만 0.89정도가 가장 높게 나온 수치였습니다."
   ]
  },
  {
   "cell_type": "code",
   "execution_count": 74,
   "metadata": {},
   "outputs": [
    {
     "data": {
      "text/plain": [
       "0.890625"
      ]
     },
     "execution_count": 74,
     "metadata": {},
     "output_type": "execute_result"
    }
   ],
   "source": [
    "GBC = GradientBoostingClassifier(max_depth=5, n_estimators=300, learning_rate=0.15, random_state=42)\n",
    "GBC.fit(scaled_X_train, y_train)\n",
    "GBC.score(scaled_X_test,y_test)"
   ]
  },
  {
   "cell_type": "markdown",
   "metadata": {},
   "source": [
    "Naive Bayes는 처음에 시도하기에 좋다고 하여 실행해보았고, 다른 분류기에 비하면 높은 값은 아니지만 그래도 0.83정도의 비교적 정확한 정확도를 보임을 확인했습니다."
   ]
  },
  {
   "cell_type": "code",
   "execution_count": 75,
   "metadata": {},
   "outputs": [
    {
     "data": {
      "text/plain": [
       "0.828125"
      ]
     },
     "execution_count": 75,
     "metadata": {},
     "output_type": "execute_result"
    }
   ],
   "source": [
    "from sklearn.naive_bayes import GaussianNB\n",
    "\n",
    "nbc = GaussianNB()\n",
    "\n",
    "nbc.fit(scaled_X_train, y_train)\n",
    "\n",
    "nbc.score(scaled_X_test, y_test)"
   ]
  },
  {
   "cell_type": "markdown",
   "metadata": {},
   "source": [
    "votingClassifier도 위의 분류기들을 가지고 두 가지 방법(soft, hard)으로 실험해보았습니다. 결과로는 hard방식이 더 높은 정확도를 보였습니다."
   ]
  },
  {
   "cell_type": "code",
   "execution_count": 76,
   "metadata": {
    "scrolled": true
   },
   "outputs": [
    {
     "name": "stderr",
     "output_type": "stream",
     "text": [
      "C:\\anaconda\\lib\\site-packages\\xgboost\\sklearn.py:888: UserWarning: The use of label encoder in XGBClassifier is deprecated and will be removed in a future release. To remove this warning, do the following: 1) Pass option use_label_encoder=False when constructing XGBClassifier object; and 2) Encode your labels (y) as integers starting with 0, i.e. 0, 1, 2, ..., [num_class - 1].\n",
      "  warnings.warn(label_encoder_deprecation_msg, UserWarning)\n"
     ]
    },
    {
     "name": "stdout",
     "output_type": "stream",
     "text": [
      "[20:25:16] WARNING: C:/Users/Administrator/workspace/xgboost-win64_release_1.3.0/src/learner.cc:1061: Starting in XGBoost 1.3.0, the default evaluation metric used with the objective 'binary:logistic' was changed from 'error' to 'logloss'. Explicitly set eval_metric if you'd like to restore the old behavior.\n"
     ]
    },
    {
     "data": {
      "text/plain": [
       "0.90625"
      ]
     },
     "execution_count": 76,
     "metadata": {},
     "output_type": "execute_result"
    }
   ],
   "source": [
    "from sklearn.ensemble import VotingClassifier\n",
    "voting_clf = VotingClassifier(\n",
    "estimators=[('gbc', GBC), ('rfc', rfc), ('xgb', xgb)],\n",
    "voting='hard')\n",
    "voting_clf.fit(scaled_X_train, y_train)\n",
    "\n",
    "voting_clf.score(scaled_X_test, y_test)"
   ]
  },
  {
   "cell_type": "code",
   "execution_count": 77,
   "metadata": {
    "scrolled": true
   },
   "outputs": [
    {
     "name": "stderr",
     "output_type": "stream",
     "text": [
      "C:\\anaconda\\lib\\site-packages\\xgboost\\sklearn.py:888: UserWarning: The use of label encoder in XGBClassifier is deprecated and will be removed in a future release. To remove this warning, do the following: 1) Pass option use_label_encoder=False when constructing XGBClassifier object; and 2) Encode your labels (y) as integers starting with 0, i.e. 0, 1, 2, ..., [num_class - 1].\n",
      "  warnings.warn(label_encoder_deprecation_msg, UserWarning)\n"
     ]
    },
    {
     "name": "stdout",
     "output_type": "stream",
     "text": [
      "[20:25:50] WARNING: C:/Users/Administrator/workspace/xgboost-win64_release_1.3.0/src/learner.cc:1061: Starting in XGBoost 1.3.0, the default evaluation metric used with the objective 'binary:logistic' was changed from 'error' to 'logloss'. Explicitly set eval_metric if you'd like to restore the old behavior.\n"
     ]
    },
    {
     "data": {
      "text/plain": [
       "0.896875"
      ]
     },
     "execution_count": 77,
     "metadata": {},
     "output_type": "execute_result"
    }
   ],
   "source": [
    "from sklearn.ensemble import VotingClassifier\n",
    "voting_clf = VotingClassifier(\n",
    "estimators=[('gbc', GBC), ('rfc', rfc), ('xgb', xgb)],\n",
    "voting='soft')\n",
    "voting_clf.fit(scaled_X_train, y_train)\n",
    "\n",
    "voting_clf.score(scaled_X_test, y_test)"
   ]
  },
  {
   "cell_type": "markdown",
   "metadata": {},
   "source": [
    "결과의 R2값으로 보아 현재 설정에서는 C값이 1일 때가 가장 좋은 성능을 보이는 것을 확인했습니다."
   ]
  },
  {
   "cell_type": "code",
   "execution_count": 78,
   "metadata": {},
   "outputs": [
    {
     "name": "stdout",
     "output_type": "stream",
     "text": [
      "MSE : 0.3907062408898828\n",
      "RMSE : 0.4543628253252625\n",
      "MAE : 0.6250649893330156\n",
      "R2 : 0.32777204336440624\n",
      "MSE : 0.3343878248888926\n",
      "RMSE : 0.4296732994951088\n",
      "MAE : 0.5782627645706514\n",
      "R2 : 0.42467045385068547\n",
      "MSE : 0.33946221277757577\n",
      "RMSE : 0.4487769820939846\n",
      "MAE : 0.5826338582485365\n",
      "R2 : 0.4159397374080288\n",
      "MSE : 0.4100656756052299\n",
      "RMSE : 0.5115671282724902\n",
      "MAE : 0.6403637057213891\n",
      "R2 : 0.2944632505212793\n",
      "MSE : 0.5725183247018194\n",
      "RMSE : 0.5933616548028348\n",
      "MAE : 0.7566494067279901\n",
      "R2 : 0.014956037881136197\n"
     ]
    }
   ],
   "source": [
    "for c in [10,1,0.1,0.01,0.001]:\n",
    "    svr = SVR(kernel='rbf',gamma='auto',C=c, epsilon=0.1)\n",
    "    svr.fit(scaled_X_train_, y_train_)\n",
    "    linear_eval(svr)"
   ]
  },
  {
   "cell_type": "markdown",
   "metadata": {},
   "source": [
    "릿지와 라쏘도 alpha값을 변경하며 실행해봤지만, 0.34~0.35의 값만 출력되었습니다."
   ]
  },
  {
   "cell_type": "code",
   "execution_count": 79,
   "metadata": {
    "scrolled": true
   },
   "outputs": [
    {
     "name": "stdout",
     "output_type": "stream",
     "text": [
      "ridge alpha =  10\n",
      "MSE : 0.37959704256387944\n",
      "RMSE : 0.4813967080694555\n",
      "MAE : 0.6161144719643253\n",
      "R2 : 0.34688592717015165\n",
      "lasso alpha =  10\n",
      "MSE : 0.37847871287015566\n",
      "RMSE : 0.4812811900820062\n",
      "MAE : 0.6152062360462186\n",
      "R2 : 0.34881006455568353\n",
      "ridge alpha =  1\n",
      "MSE : 0.37959704256387944\n",
      "RMSE : 0.4813967080694555\n",
      "MAE : 0.6161144719643253\n",
      "R2 : 0.34688592717015165\n",
      "lasso alpha =  1\n",
      "MSE : 0.37847871287015566\n",
      "RMSE : 0.4812811900820062\n",
      "MAE : 0.6152062360462186\n",
      "R2 : 0.34881006455568353\n",
      "ridge alpha =  0.1\n",
      "MSE : 0.37959704256387944\n",
      "RMSE : 0.4813967080694555\n",
      "MAE : 0.6161144719643253\n",
      "R2 : 0.34688592717015165\n",
      "lasso alpha =  0.1\n",
      "MSE : 0.37847871287015566\n",
      "RMSE : 0.4812811900820062\n",
      "MAE : 0.6152062360462186\n",
      "R2 : 0.34881006455568353\n",
      "ridge alpha =  0.01\n",
      "MSE : 0.37959704256387944\n",
      "RMSE : 0.4813967080694555\n",
      "MAE : 0.6161144719643253\n",
      "R2 : 0.34688592717015165\n",
      "lasso alpha =  0.01\n",
      "MSE : 0.37847871287015566\n",
      "RMSE : 0.4812811900820062\n",
      "MAE : 0.6152062360462186\n",
      "R2 : 0.34881006455568353\n",
      "ridge alpha =  0.001\n",
      "MSE : 0.37959704256387944\n",
      "RMSE : 0.4813967080694555\n",
      "MAE : 0.6161144719643253\n",
      "R2 : 0.34688592717015165\n",
      "lasso alpha =  0.001\n",
      "MSE : 0.37847871287015566\n",
      "RMSE : 0.4812811900820062\n",
      "MAE : 0.6152062360462186\n",
      "R2 : 0.34881006455568353\n"
     ]
    }
   ],
   "source": [
    "for a in [10,1,0.1,0.01,0.001]:\n",
    "    ridge = Ridge(alpha=0.001)\n",
    "    ridge.fit(scaled_X_train_, y_train_)\n",
    "    print(\"ridge alpha = \", a)\n",
    "    linear_eval(ridge)\n",
    "\n",
    "    lasso = Lasso(alpha=0.001)\n",
    "    lasso.fit(scaled_X_train_, y_train_)\n",
    "    print(\"lasso alpha = \", a)\n",
    "    linear_eval(lasso)"
   ]
  },
  {
   "cell_type": "markdown",
   "metadata": {},
   "source": [
    "위에서 svr의 C=1일 때 성능이 가장 좋아서 cross validation을 진행해보았고, 그 결과를 확인했습니다."
   ]
  },
  {
   "cell_type": "code",
   "execution_count": 80,
   "metadata": {},
   "outputs": [
    {
     "data": {
      "text/plain": [
       "array([0.28556583, 0.38739327, 0.2350023 , 0.08333595, 0.17910919,\n",
       "       0.27705879, 0.42331365, 0.25899212, 0.65164677, 0.48558298])"
      ]
     },
     "execution_count": 80,
     "metadata": {},
     "output_type": "execute_result"
    }
   ],
   "source": [
    "svr = SVR(kernel='rbf',gamma='auto',C=1, epsilon=0.1)\n",
    "rfc_eval = cross_val_score(svr, X = scaled_X_test_, y = y_test_, cv = 10)  \n",
    "rfc_eval"
   ]
  },
  {
   "cell_type": "code",
   "execution_count": 81,
   "metadata": {},
   "outputs": [
    {
     "data": {
      "text/plain": [
       "0.32670008644429777"
      ]
     },
     "execution_count": 81,
     "metadata": {},
     "output_type": "execute_result"
    }
   ],
   "source": [
    "rfc_eval.mean()"
   ]
  },
  {
   "cell_type": "markdown",
   "metadata": {},
   "source": [
    "boxplot을 보고 \"혹시 이상치에 영향을 안받아서 안좋게 나온 것인가?\"라는 질문을 가지고 StandardScaler를 RobustScaler로 바꾸어서 진행해보았습니다. 결과는 크게 다르지 않음을 확인했습니다."
   ]
  },
  {
   "cell_type": "code",
   "execution_count": 82,
   "metadata": {},
   "outputs": [],
   "source": [
    "from sklearn.preprocessing import RobustScaler\n",
    "rs = RobustScaler()\n",
    "scaled_X_train = rs.fit_transform(X_train)\n",
    "scaled_X_test = rs.transform(X_test)\n",
    "scaled_X_train_ = rs.fit_transform(X_train_)\n",
    "scaled_X_test_ = rs.transform(X_test_)"
   ]
  },
  {
   "cell_type": "code",
   "execution_count": 84,
   "metadata": {},
   "outputs": [
    {
     "name": "stdout",
     "output_type": "stream",
     "text": [
      "0.890625\n",
      "0.884375\n",
      "MSE : 0.37959710850229783\n",
      "RMSE : 0.48139673183329795\n",
      "MAE : 0.6161145254758225\n",
      "R2 : 0.3468858137200871\n",
      "MSE : 0.3376214646761959\n",
      "RMSE : 0.4387959560796709\n",
      "MAE : 0.5810520326753843\n",
      "R2 : 0.4191068287041727\n"
     ]
    }
   ],
   "source": [
    "rfc = RandomForestClassifier(max_depth=7, n_estimators=300) \n",
    "rfc.fit(scaled_X_train, y_train)\n",
    "print(rfc.score(scaled_X_test,y_test))\n",
    "\n",
    "GBC = GradientBoostingClassifier(max_depth=5, n_estimators=100, learning_rate=0.1, random_state=42)\n",
    "GBC.fit(scaled_X_train, y_train)\n",
    "print(GBC.score(scaled_X_test,y_test))\n",
    "\n",
    "lr = LinearRegression()\n",
    "lr.fit(scaled_X_train_, y_train_)\n",
    "linear_eval(lr)\n",
    "\n",
    "svr = SVR(kernel='rbf',gamma='auto',C=1, epsilon=0.1)\n",
    "svr.fit(scaled_X_train_, y_train_)\n",
    "linear_eval(svr)"
   ]
  }
 ],
 "metadata": {
  "kernelspec": {
   "display_name": "Python 3",
   "language": "python",
   "name": "python3"
  },
  "language_info": {
   "codemirror_mode": {
    "name": "ipython",
    "version": 3
   },
   "file_extension": ".py",
   "mimetype": "text/x-python",
   "name": "python",
   "nbconvert_exporter": "python",
   "pygments_lexer": "ipython3",
   "version": "3.8.5"
  }
 },
 "nbformat": 4,
 "nbformat_minor": 1
}
